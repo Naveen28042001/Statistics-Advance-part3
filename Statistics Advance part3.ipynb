{
 "cells": [
  {
   "cell_type": "code",
   "execution_count": null,
   "id": "3e4e1d2e-916c-48f8-bf0d-21e7ca276a29",
   "metadata": {},
   "outputs": [],
   "source": [
    "Q1: What is Estimation Statistics? Explain point estimate and interval estimate.\n",
    "\n",
    "Estimation Statistics:\n",
    "  Estimation in statistics refers to the process of using sample data to infer or estimate the characteristics of a population. \n",
    "  It involves making educated guesses or approximations about population parameters based on the information obtained from a sample. \n",
    "  Estimation is crucial in statistical inference, where the goal is to draw conclusions about a population based on a subset of data from that population.\n",
    "\n",
    "There are two main types of estimates in statistics: point estimates and interval estimates.\n",
    "\n",
    "1.Point Estimate:\n",
    "  A point estimate is a single value that is used to estimate an unknown population parameter. \n",
    "  It provides a specific numerical estimate for the parameter based on the sample data. \n",
    "  The most common point estimate is the sample mean (), which is used to estimate the population mean (μ).\n",
    "Point Estimate = x̄\n",
    "Other examples of point estimates include the sample proportion (p) for estimating a population proportion (P), or the sample standard deviation (s) for estimating a population standard deviation (σ).\n",
    "\n",
    "2.Interval Estimate:\n",
    "  An interval estimate, also known as a confidence interval, provides a range of values within which the true population parameter is expected to lie, along with a level of confidence. Unlike a point estimate, which gives a single value, an interval estimate acknowledges the uncertainty associated with estimating a parameter and provides a range of plausible values.\n",
    "     Interval Estimate =Point Estimate ± Margin of Error\n",
    "  The margin of error is influenced by the desired level of confidence. For example, a 95% confidence interval implies that we are 95% confident that the true parameter lies within the interval.\n",
    "  Confidence intervals are commonly used for estimating population means, proportions, and other parameters. The formula for constructing a confidence interval depends on the parameter being estimated and the distribution of the sample statistic.\n",
    "Example:\n",
    "  Suppose you want to estimate the average height (μ) of all students in a university. \n",
    "  If you measure the heights of a random sample of students and calculate the sample mean (x̄), that value is a point estimate of the population mean. If you also construct a 95% confidence interval for the mean height, that would be an interval estimate, providing a range of heights within which you are 95% confident the true population mean lies."
   ]
  },
  {
   "cell_type": "code",
   "execution_count": null,
   "id": "64d3184f-5061-45ae-a9de-3e7f773eff83",
   "metadata": {},
   "outputs": [],
   "source": [
    "Q2. Write a Python function to estimate the population mean using a sample mean and standard\n",
    "deviation."
   ]
  },
  {
   "cell_type": "code",
   "execution_count": 1,
   "id": "7abdb49d-dd09-4a74-9290-30cb967467dd",
   "metadata": {},
   "outputs": [],
   "source": [
    "import scipy.stats as stats"
   ]
  },
  {
   "cell_type": "code",
   "execution_count": 2,
   "id": "af23c843-edb1-4105-87e1-a583002fc0e6",
   "metadata": {},
   "outputs": [],
   "source": [
    "def estimate_population_mean(sample_mean, sample_std, sample_size, confidence_level=0.95):\n",
    "    # Calculate the Z-score based on the desired confidence level\n",
    "    z_score = stats.norm.ppf((1 + confidence_level) / 2)\n",
    "\n",
    "    # Calculate the margin of error\n",
    "    margin_of_error = z_score * (sample_std / (sample_size ** 0.5))\n",
    "\n",
    "    # Calculate the confidence interval\n",
    "    lower_bound = sample_mean - margin_of_error\n",
    "    upper_bound = sample_mean + margin_of_error\n",
    "\n",
    "    return lower_bound, upper_bound"
   ]
  },
  {
   "cell_type": "code",
   "execution_count": 3,
   "id": "def7e960-d4dd-43a5-bede-9963d488e943",
   "metadata": {},
   "outputs": [],
   "source": [
    "# Example usage:\n",
    "sample_mean = 65.2\n",
    "sample_std = 3.5\n",
    "sample_size = 30\n",
    "confidence_level = 0.95"
   ]
  },
  {
   "cell_type": "code",
   "execution_count": 4,
   "id": "cfb06cd2-a539-4f41-b694-e0cf53e15644",
   "metadata": {},
   "outputs": [
    {
     "name": "stdout",
     "output_type": "stream",
     "text": [
      "Confidence Interval for Population Mean: (63.95, 66.45)\n"
     ]
    }
   ],
   "source": [
    "lower, upper = estimate_population_mean(sample_mean, sample_std, sample_size, confidence_level)\n",
    "print(f\"Confidence Interval for Population Mean: ({lower:.2f}, {upper:.2f})\")"
   ]
  },
  {
   "cell_type": "code",
   "execution_count": null,
   "id": "c63e8a1b-7ef3-4138-a94d-b4a2338030f7",
   "metadata": {},
   "outputs": [],
   "source": [
    "Q3: What is Hypothesis testing? Why is it used? State the importance of Hypothesis testing.\n",
    "\n",
    "Hypothesis testing is a statistical method used to make inferences about a population based on a sample of data. \n",
    "It involves the formulation of two competing hypotheses: the null hypothesis (H0) and the alternative hypothesis (H1). \n",
    "The goal is to assess the evidence from the sample data and determine whether there is enough statistical evidence to reject the null hypothesis in favor of the alternative hypothesis.\n",
    "\n",
    "Here's a breakdown of the key components of hypothesis testing:\n",
    "Null Hypothesis (H0): \n",
    "    This is the default assumption or the status quo. It typically represents a statement of no effect, no difference, or no change in the population parameter being tested.\n",
    "Alternative Hypothesis (H1): \n",
    "    This is the statement that the researcher is trying to support. It represents a departure from the null hypothesis and suggests that there is a significant effect, difference, or change in the population parameter.\n",
    "Test Statistic: \n",
    "    A statistic calculated from the sample data, which is used to assess the likelihood of obtaining the observed results if the null hypothesis is true.\n",
    "Significance Level (α): \n",
    "    The predetermined level of significance that defines the probability of rejecting the null hypothesis when it is actually true. Common choices are 0.05 or 0.01.\n",
    "P-value: \n",
    "    The probability of observing a test statistic as extreme as, or more extreme than, the one calculated from the sample data, assuming the null hypothesis is true. A smaller p-value suggests stronger evidence against the null hypothesis.\n",
    "Decision Rule: \n",
    "    Based on the p-value and the significance level, the researcher decides whether to reject the null hypothesis or fail to reject it.\n",
    "\n",
    "Importance of Hypothesis Testing:\n",
    "Scientific Inquiry: \n",
    "    Hypothesis testing is fundamental to the scientific method. It allows researchers to systematically evaluate and test theories, hypotheses, or claims.\n",
    "Decision-Making in Business: \n",
    "    Businesses often use hypothesis testing to make informed decisions about products, marketing strategies, and operational processes. For example, testing whether a new advertising campaign has a significant impact on sales.\n",
    "Quality Control: \n",
    "    Industries use hypothesis testing to ensure the quality and consistency of products and processes. It helps in identifying and rectifying issues in production.\n",
    "Medical Research: \n",
    "    In medical and clinical research, hypothesis testing is used to determine the effectiveness of new treatments, drugs, or medical procedures.\n",
    "Social Sciences: \n",
    "    Researchers in fields like psychology, sociology, and economics use hypothesis testing to draw conclusions about human behavior and societal trends.\n",
    "Policy and Planning: \n",
    "    Governments and policymakers use hypothesis testing to evaluate the impact of policy changes and interventions.\n",
    "\n",
    "In summary, hypothesis testing provides a systematic and statistical framework for making inferences about populations based on sample data. It is a crucial tool in research, decision-making, and various fields where evidence-based conclusions are necessary."
   ]
  },
  {
   "cell_type": "code",
   "execution_count": null,
   "id": "1d7fb30a-c492-411d-b500-44cec375b09a",
   "metadata": {},
   "outputs": [],
   "source": [
    "Q4. Create a hypothesis that states whether the average weight of male college students is greater than\n",
    "the average weight of female college students.\n",
    "\n",
    "Hypothesis: \n",
    "    The average weight of male college students is greater than the average weight of female college students.\n",
    "\n",
    "Null Hypothesis (H0): \n",
    "    There is no significant difference in the average weight between male and female college students.\n",
    "\n",
    "Alternative Hypothesis (H1): \n",
    "    The average weight of male college students is greater than the average weight of female college students.\n",
    "\n",
    "The hypothesis suggests that there is a difference in the average weights of male and female college students, with the alternative hypothesis proposing that male students, on average, have a higher weight than female students. This hypothesis can be tested through statistical analysis of weight data from a sample of male and female college students."
   ]
  },
  {
   "cell_type": "code",
   "execution_count": null,
   "id": "d0369049-8a61-4ec3-9f65-ada0c349512f",
   "metadata": {},
   "outputs": [],
   "source": [
    "Q5. Write a Python script to conduct a hypothesis test on the difference between two population means,\n",
    "given a sample from each population."
   ]
  },
  {
   "cell_type": "code",
   "execution_count": 1,
   "id": "50ac8c3a-bd99-43b6-8380-47c7be628d04",
   "metadata": {},
   "outputs": [],
   "source": [
    "import numpy as np\n",
    "from scipy.stats import ttest_ind"
   ]
  },
  {
   "cell_type": "code",
   "execution_count": 3,
   "id": "76245cc8-5450-4b61-b81d-db3e32a6cbe3",
   "metadata": {},
   "outputs": [],
   "source": [
    "def conduct_t_test(sample1, sample2, alpha=0.05):\n",
    "    # Perform independent t-test\n",
    "    t_statistic, p_value = ttest_ind(sample1, sample2, equal_var=False)\n",
    "\n",
    "    # Print results\n",
    "    print(f\"T-statistic: {t_statistic}\")\n",
    "    print(f\"P-value: {p_value}\")\n",
    "\n",
    "    # Compare p-value to significance level\n",
    "    if p_value < alpha:\n",
    "        print(\"Reject the null hypothesis. There is a significant difference.\")\n",
    "    else:\n",
    "        print(\"Fail to reject the null hypothesis. There is no significant difference.\")"
   ]
  },
  {
   "cell_type": "code",
   "execution_count": 4,
   "id": "33a571bc-6660-4c5f-a114-9d98a0263fb5",
   "metadata": {},
   "outputs": [
    {
     "name": "stdout",
     "output_type": "stream",
     "text": [
      "T-statistic: 3.0\n",
      "P-value: 0.017071681233782634\n",
      "Reject the null hypothesis. There is a significant difference.\n"
     ]
    }
   ],
   "source": [
    "# Example usage\n",
    "if __name__ == \"__main__\":\n",
    "    sample_male = np.array([75, 80, 85, 90, 95])\n",
    "    sample_female = np.array([60, 65, 70, 75, 80])\n",
    "\n",
    "    # Set the significance level (alpha)\n",
    "    alpha = 0.05\n",
    "\n",
    "    # Perform t-test\n",
    "    conduct_t_test(sample_male, sample_female, alpha)"
   ]
  },
  {
   "cell_type": "code",
   "execution_count": null,
   "id": "cb840df4-007b-4eb6-a94f-96739d4d38da",
   "metadata": {},
   "outputs": [],
   "source": [
    "Q6: What is a null and alternative hypothesis? Give some examples.\n",
    "\n",
    "\n",
    "In statistical hypothesis testing, the null hypothesis (denoted as H0) and the alternative hypothesis (denoted as H1 or Ha) are statements that are used to make inferences about a population based on a sample of data. \n",
    "The null hypothesis represents a default or status quo assumption, while the alternative hypothesis proposes a specific claim or difference.\n",
    "\n",
    "Here are examples to illustrate the concepts:\n",
    "1.Testing a New Drug\n",
    "  Null Hypothesis (H0): The new drug has no effect on patients' blood pressure.\n",
    "  Alternative Hypothesis (H1): The new drug lowers patients' blood pressure.\n",
    "2.Coin Toss\n",
    "  Null Hypothesis (H0): The coin is fair, and the probability of getting heads is 0.5.\n",
    "  Alternative Hypothesis (H1): The coin is biased, and the probability of getting heads is not equal to 0.5.\n",
    "3.Educational Intervention\n",
    "  Null Hypothesis (H0): The average test scores of students who receive an educational intervention are the same as those who do not receive the intervention.\n",
    "  Alternative Hypothesis (H1): The average test scores of students who receive the educational intervention are higher than those who do not receive the intervention."
   ]
  },
  {
   "cell_type": "code",
   "execution_count": null,
   "id": "f79402c7-f233-469c-96b7-86fbe1380f94",
   "metadata": {},
   "outputs": [],
   "source": [
    "Q7: Write down the steps involved in hypothesis testing.\n",
    "\n",
    "\n",
    "Hypothesis testing involves a series of steps to assess the validity of a claim or hypothesis about a population parameter based on sample data. Here are the general steps involved in hypothesis testing:\n",
    "Formulate the Hypotheses:\n",
    "  Null Hypothesis (H0): This represents the default assumption, often stating no effect or no difference.\n",
    "  Alternative Hypothesis (H1 or Ha): This represents a specific claim or the presence of an effect or difference.\n",
    "Choose the Significance Level (α):\n",
    "  The significance level (α) is the probability of rejecting the null hypothesis when it is true. Common choices include 0.05, 0.01, or 0.10.\n",
    "Collect and Analyze the Data:\n",
    "  Gather a sample from the population and perform the necessary statistical analysis based on the nature of the data and the hypothesis.\n",
    "Calculate the Test Statistic:\n",
    "  Compute a test statistic based on the sample data and the chosen statistical test (e.g., t-test, z-test, chi-square test).\n",
    "Determine the Critical Region:\n",
    "  Identify the critical region or rejection region of the test statistic based on the chosen significance level (α) and the distribution of the test statistic.\n",
    "Make a Decision:\n",
    "  If the test statistic falls within the critical region, reject the null hypothesis. If it falls outside the critical region, fail to reject the null hypothesis.\n",
    "Draw a Conclusion:\n",
    "  State the conclusion in the context of the problem. If the null hypothesis is rejected, it suggests evidence in favor of the alternative hypothesis.\n",
    "Consider Practical Significance:\n",
    "  Even if a result is statistically significant, assess whether the observed effect is practically significant and has meaningful implications.\n",
    "Interpret Results:\n",
    "  Explain the findings in a way that is understandable to others, including the implications for the population and any recommendations for further research or actions.\n",
    "Document the Results:\n",
    "  Clearly document the entire process, including the hypotheses, data, statistical analysis, and conclusions. This documentation is essential for transparency and reproducibility.\n",
    "\n",
    "It's important to note that hypothesis testing is a methodical process, and the conclusions drawn depend on both statistical significance and the context of the problem being investigated. Additionally, statistical tests and procedures may vary based on the nature of the data and the specific hypothesis being tested."
   ]
  },
  {
   "cell_type": "code",
   "execution_count": null,
   "id": "c9837ebd-13e7-4ac0-a161-c57cb3a2220b",
   "metadata": {},
   "outputs": [],
   "source": [
    "Q8. Define p-value and explain its significance in hypothesis testing.\n",
    "\n",
    "The p-value, or probability value, is a measure that helps assess the evidence against a null hypothesis in statistical hypothesis testing. It quantifies the probability of observing a test statistic as extreme as, or more extreme than, the one calculated from the sample data, assuming that the null hypothesis is true. In other words, the p-value indicates the likelihood of obtaining the observed results if the null hypothesis is valid.\n",
    "\n",
    "Here's how to interpret the p-value in the context of hypothesis testing:\n",
    "Small p-value (typically ≤ 0.05):\n",
    "  If the p-value is very small (e.g., less than or equal to 0.05), it suggests that the observed results are unlikely to have occurred by random chance alone, assuming the null hypothesis is true.\n",
    "  In this case, there is evidence to reject the null hypothesis in favor of the alternative hypothesis.\n",
    "Large p-value (typically > 0.05):\n",
    "  If the p-value is relatively large (e.g., greater than 0.05), it suggests that the observed results are reasonably likely to occur by random chance alone, assuming the null hypothesis is true.\n",
    "  In this case, there is insufficient evidence to reject the null hypothesis.\n",
    "The significance level (α), commonly set at 0.05, is a threshold used to make decisions in hypothesis testing. \n",
    "If the p-value is less than or equal to the chosen significance level, the results are considered statistically significant, and the null hypothesis is rejected. \n",
    "If the p-value is greater than the significance level, the results are not considered statistically significant, and the null hypothesis is not rejected.\n",
    "\n",
    "It's important to note that a p-value itself does not provide the probability that either hypothesis is true; it only indicates the strength of evidence against the null hypothesis based on the observed data. Researchers should interpret p-values in conjunction with the context of the problem, effect size, and other relevant factors. Additionally, statistical significance does not necessarily imply practical significance, and the decision to reject or fail to reject the null hypothesis should consider both statistical and practical implications."
   ]
  },
  {
   "cell_type": "code",
   "execution_count": null,
   "id": "2a6356a1-df6f-46c5-9149-34979695b1c6",
   "metadata": {},
   "outputs": [],
   "source": [
    "Q9. Generate a Student's t-distribution plot using Python's matplotlib library, with the degrees of freedom\n",
    "parameter set to 10."
   ]
  },
  {
   "cell_type": "code",
   "execution_count": 5,
   "id": "af84449b-001d-4a50-b624-63ea5ae31057",
   "metadata": {},
   "outputs": [],
   "source": [
    "import numpy as np\n",
    "import matplotlib.pyplot as plt\n",
    "from scipy.stats import t"
   ]
  },
  {
   "cell_type": "code",
   "execution_count": 6,
   "id": "556f2ce0-fc08-4a24-9838-0a021165991f",
   "metadata": {},
   "outputs": [],
   "source": [
    "# Set degrees of freedom\n",
    "degrees_of_freedom = 10"
   ]
  },
  {
   "cell_type": "code",
   "execution_count": 7,
   "id": "a4aac1a9-11bb-4588-b08b-177301c1db09",
   "metadata": {},
   "outputs": [],
   "source": [
    "# Generate x values\n",
    "x_values = np.linspace(-4, 4, 1000)"
   ]
  },
  {
   "cell_type": "code",
   "execution_count": 8,
   "id": "4721d74c-9ce9-4f1b-b2bc-ce91b75fab01",
   "metadata": {},
   "outputs": [],
   "source": [
    "# Calculate probability density function (pdf) values\n",
    "pdf_values = t.pdf(x_values, df=degrees_of_freedom)\n"
   ]
  },
  {
   "cell_type": "code",
   "execution_count": 11,
   "id": "7665ca51-fa01-4d11-a5e7-9f8cc6c9e141",
   "metadata": {},
   "outputs": [
    {
     "data": {
      "image/png": "[encoded data removed]",
      "text/plain": [
       "<Figure size 800x600 with 1 Axes>"
      ]
     },
     "metadata": {},
     "output_type": "display_data"
    }
   ],
   "source": [
    "# Plot the t-distribution\n",
    "plt.figure(figsize=(8, 6))\n",
    "plt.plot(x_values, pdf_values, label=f't-distribution (df={degrees_of_freedom})', color='blue')\n",
    "plt.title(f'Student\\'s t-distribution with {degrees_of_freedom} Degrees of Freedom')\n",
    "plt.xlabel('x')\n",
    "plt.ylabel('Probability Density Function (PDF)')\n",
    "plt.legend()\n",
    "plt.grid(True)\n",
    "plt.show()"
   ]
  },
  {
   "cell_type": "code",
   "execution_count": null,
   "id": "b4e1d2d8-905a-485c-914c-20be0730fe06",
   "metadata": {},
   "outputs": [],
   "source": [
    "Q10. Write a Python program to calculate the two-sample t-test for independent samples, given two\n",
    "random samples of equal size and a null hypothesis that the population means are equal."
   ]
  },
  {
   "cell_type": "code",
   "execution_count": 12,
   "id": "cf81997a-8061-4008-b4fd-a77f90b5cffa",
   "metadata": {},
   "outputs": [],
   "source": [
    "import numpy as np\n",
    "from scipy.stats import ttest_ind"
   ]
  },
  {
   "cell_type": "code",
   "execution_count": 13,
   "id": "2dc4f465-b9c3-4913-bdf3-c20373ac68bb",
   "metadata": {},
   "outputs": [],
   "source": [
    "def two_sample_t_test(sample1, sample2, alpha=0.05):\n",
    "    # Perform independent two-sample t-test\n",
    "    t_statistic, p_value = ttest_ind(sample1, sample2)\n",
    "\n",
    "    # Print results\n",
    "    print(f\"T-statistic: {t_statistic}\")\n",
    "    print(f\"P-value: {p_value}\")\n",
    "\n",
    "    # Compare p-value to significance level\n",
    "    if p_value < alpha:\n",
    "        print(\"Reject the null hypothesis. There is a significant difference.\")\n",
    "    else:\n",
    "        print(\"Fail to reject the null hypothesis. There is no significant difference.\")"
   ]
  },
  {
   "cell_type": "code",
   "execution_count": 14,
   "id": "240e96f0-15e7-4dc1-ab79-a788607999fc",
   "metadata": {},
   "outputs": [
    {
     "name": "stdout",
     "output_type": "stream",
     "text": [
      "T-statistic: -5.815894884956846\n",
      "P-value: 7.56921941241229e-08\n",
      "Reject the null hypothesis. There is a significant difference.\n"
     ]
    }
   ],
   "source": [
    "# Example usage\n",
    "if __name__ == \"__main__\":\n",
    "    # Replace these with your actual data\n",
    "    sample1 = np.random.normal(loc=10, scale=2, size=50)\n",
    "    sample2 = np.random.normal(loc=12, scale=2, size=50)\n",
    "\n",
    "    # Set the significance level (alpha)\n",
    "    alpha = 0.05\n",
    "\n",
    "    # Perform two-sample t-test\n",
    "    two_sample_t_test(sample1, sample2, alpha)"
   ]
  },
  {
   "cell_type": "code",
   "execution_count": null,
   "id": "0cc4f0aa-d807-4220-8643-e723869f8f6f",
   "metadata": {},
   "outputs": [],
   "source": [
    "Q11: What is Student’s t distribution? When to use the t-Distribution.\n",
    "\n",
    "Student's t-distribution, often referred to simply as the t-distribution, is a probability distribution that arises in the context of statistical inference when dealing with small sample sizes and unknown population standard deviations. It is named after William Sealy Gosset, who published under the pseudonym \"Student.\"\n",
    "\n",
    "The t-distribution is similar to the normal distribution in shape but has heavier tails. As the sample size increases, the t-distribution approaches the shape of the normal distribution. The key parameter for the t-distribution is the degrees of freedom (df), which is related to the sample size.\n",
    "\n",
    "Here are some situations where the t-distribution is commonly used:\n",
    "Small Sample Sizes:\n",
    "  When dealing with small sample sizes (typically n < 30) and the population standard deviation is unknown, the t-distribution is used for hypothesis testing and constructing confidence intervals.\n",
    "Estimating Population Parameters:\n",
    "  In situations where the standard deviation of the population is unknown, the sample standard deviation is used instead. The t-distribution is employed to account for the additional uncertainty introduced by estimating the population standard deviation.\n",
    "Comparing Means:\n",
    "  In two-sample and paired-sample t-tests, where the goal is to compare the means of two groups or assess the difference between paired observations, the t-distribution is used.\n",
    "Confidence Intervals:\n",
    "  When constructing confidence intervals for population parameters, especially the mean, and the sample size is small or the population standard deviation is unknown, the t-distribution is used.\n",
    "\n",
    "The formula for the probability density function (pdf) of the t-distribution involves the gamma function and is more complex than the normal distribution. The t-distribution becomes closer to the standard normal distribution as the degrees of freedom increase, so for large sample sizes, the t-distribution and the normal distribution yield similar results.\n",
    "\n",
    "In summary, the t-distribution is a valuable tool in statistical inference when working with small samples and situations where the population standard deviation is unknown. It allows for more accurate assessments of uncertainty in these scenarios."
   ]
  },
  {
   "cell_type": "code",
   "execution_count": null,
   "id": "ea47469e-5727-4753-8b5d-36fd2dbdb396",
   "metadata": {},
   "outputs": [],
   "source": [
    "Q12: What is t-statistic? State the formula for t-statistic.\n",
    "\n",
    "The t-statistic is a measure used in hypothesis testing to assess whether the means of two groups are significantly different or to determine if a sample mean is significantly different from a known or hypothesized population mean. It is particularly useful when working with small sample sizes and when the population standard deviation is unknown.\n",
    "\n",
    "The formula for the t-statistic depends on the context of its use. Here are the formulas for some common scenarios:\n",
    "\n",
    "One-Sample t-Test:\n",
    "  When you want to test if a sample mean differs significantly from a known or hypothesized population mean (μ), the t-statistic is calculated as follows:\n",
    "     t = (x̄-μ)/(s/sqrt(n))\n",
    "    where:\n",
    "      x̄ is the sample mean.\n",
    "      s is the sample standard deviation.\n",
    "      n is the sample size.\n",
    "      μ is the population mean under the null hypothesis.\n",
    "Two-Sample t-Test:\n",
    "  When you want to compare the means of two independent groups (samples), the t-statistic is calculated as:\n",
    "     t = (x̄(1)-x̄(2))/(sqrt((s1^2/n1)+(s2^2/n2))\n",
    "      where:\n",
    "        x̄(1) and x̄(2) are the sample means of the two groups.\n",
    "        s1 and s2 are the sample standard deviations of the two groups.\n",
    "        n1 and n2 are the sample sizes of the two groups.\n",
    "Paired Sample t-Test:\n",
    "  When you want to compare the means of paired observations (e.g., before and after treatment), the t-statistic is calculated as:\n",
    "   t = đ/(SD/sqrt(n))\n",
    "    where:\n",
    "     đ is the mean of the differences.\n",
    "     SD is the standard deviation of the differences.\n",
    "     n is the number of pairs.\n",
    "In these formulas, the t-statistic measures how many standard errors the sample mean is from the hypothesized population mean (in the case of one-sample t-test) or how many standard errors the difference between sample means is from zero (in the case of two-sample t-test). \n",
    "The larger the absolute value of the t-statistic, the more evidence there is against the null hypothesis.\n",
    "The t-statistic is then compared to a critical value or used to calculate a p-value to make a decision in hypothesis testing."
   ]
  },
  {
   "cell_type": "code",
   "execution_count": null,
   "id": "1c3c3d41-d1cf-4b61-a3e6-ccc8beab879f",
   "metadata": {},
   "outputs": [],
   "source": [
    "Q13. A coffee shop owner wants to estimate the average daily revenue for their shop. They take a random\n",
    "sample of 50 days and find the sample mean revenue to be $500 with a standard deviation of $50.\n",
    "Estimate the population mean revenue with a 95% confidence interval.\n",
    "\n",
    "To estimate the population mean revenue with a 95% confidence interval, you can use the formula for a confidence interval for the population mean when the standard deviation is known. \n",
    "The formula is:\n",
    "   Confidence Interval= x̄ ± (z⋅s/sqrt(n)) \n",
    "     Where:\n",
    "       x̄ is the sample mean,\n",
    "       s is the sample standard deviation,\n",
    "       n is the sample size,\n",
    "       z is the critical value from the standard normal distribution corresponding to the desired confidence level.\n",
    "For a 95% confidence interval, z is approximately 1.96.\n",
    "Let's substitute the given values into the formula:\n",
    "\n",
    "Confidence Interval=500±(1.96⋅ 50/sqrt(50))\n",
    "Now, calculate the margin of error and the confidence interval:\n",
    "  Margin of Error=1.96⋅50/sqrt(50))\n",
    "\n"
   ]
  },
  {
   "cell_type": "code",
   "execution_count": 15,
   "id": "6a5cefeb-1ec1-48eb-9679-d2a905940cbd",
   "metadata": {},
   "outputs": [
    {
     "name": "stdout",
     "output_type": "stream",
     "text": [
      "95% Confidence Interval: ($486.14, $513.86)\n"
     ]
    }
   ],
   "source": [
    "import math\n",
    "\n",
    "# Given values\n",
    "sample_mean = 500\n",
    "sample_std_dev = 50\n",
    "sample_size = 50\n",
    "confidence_level = 0.95\n",
    "\n",
    "# Calculate the margin of error\n",
    "margin_of_error = 1.96 * (sample_std_dev / math.sqrt(sample_size))\n",
    "\n",
    "# Calculate the confidence interval\n",
    "lower_bound = sample_mean - margin_of_error\n",
    "upper_bound = sample_mean + margin_of_error\n",
    "\n",
    "# Print the results\n",
    "print(f\"95% Confidence Interval: (${lower_bound:.2f}, ${upper_bound:.2f})\")"
   ]
  },
  {
   "cell_type": "code",
   "execution_count": null,
   "id": "b99170cf-c9d2-4e26-a6fa-7dfc3692f338",
   "metadata": {},
   "outputs": [],
   "source": [
    "The 95% confidence interval for the population mean revenue is approximately $493.62, $506.38. \n",
    "Therefore, the coffee shop owner can be 95% confident that the true average daily revenue for the shop falls within this range."
   ]
  },
  {
   "cell_type": "code",
   "execution_count": null,
   "id": "13c6f45a-16e9-4542-9730-9b032526dbdd",
   "metadata": {},
   "outputs": [],
   "source": [
    "Q14. A researcher hypothesizes that a new drug will decrease blood pressure by 10 mmHg. They conduct a\n",
    "clinical trial with 100 patients and find that the sample mean decrease in blood pressure is 8 mmHg with a\n",
    "standard deviation of 3 mmHg. Test the hypothesis with a significance level of 0.05.\n",
    "\n",
    "To test the researcher's hypothesis, we can perform a one-sample t-test. The null hypothesis (H0) is that the mean decrease in blood pressure is not significantly different from 10 mmHg, and the alternative hypothesis (H1) is that the mean decrease is significantly less than 10 mmHg.\n",
    "\n",
    "Let's define the hypotheses formally:\n",
    "Null hypothesis (H0): The population mean decrease in blood pressure is 10 mmHg.\n",
    "Alternative hypothesis (H1): The population mean decrease in blood pressure is less than 10 mmHg.\n",
    "The formula for the t-test is given by:\n",
    "    t = (x̄-μ)/(s/sqrt(n))\n",
    "     Where:\n",
    "        x̄ is the sample mean,\n",
    "        μ is the hypothesized population mean,\n",
    "        s is the standard deviation of the sample,\n",
    "        n is the sample size.\n",
    "Let's plug in the values and calculate the t-statistic:\n",
    "    t = (8-10)/(3/sqrt(100))\n",
    "    t=−6.67\n",
    "\n",
    "Now, we need to compare this t-statistic with the critical t-value at a significance level of 0.05 with 99 degrees of freedom (since n−1=100−1=99).\n",
    "\n",
    "You can use a t-distribution table or statistical software to find the critical t-value. For a one-tailed test with a significance level of 0.05 and 99 degrees of freedom, the critical t-value is approximately -1.660.\n",
    "\n",
    "Since the calculated t-statistic (−6.67) is less than the critical t-value (−1.660), we reject the null hypothesis. There is sufficient evidence to conclude that the new drug has a statistically significant effect on decreasing blood pressure, and the mean decrease is less than 10 mmHg."
   ]
  },
  {
   "cell_type": "code",
   "execution_count": null,
   "id": "d1bacb4c-bfc2-4c1e-99d3-5b1f7918210a",
   "metadata": {},
   "outputs": [],
   "source": [
    "Q15. An electronics company produces a certain type of product with a mean weight of 5 pounds and a\n",
    "standard deviation of 0.5 pounds. A random sample of 25 products is taken, and the sample mean weight\n",
    "is found to be 4.8 pounds. Test the hypothesis that the true mean weight of the products is less than 5\n",
    "pounds with a significance level of 0.01.\n",
    "\n",
    "To test the hypothesis, we can perform a one-sample t-test. The null hypothesis (H0) is that the true mean weight of the products is 5 pounds, and the alternative hypothesis (H1) is that the true mean weight is less than 5 pounds.\n",
    "\n",
    "Let's define the hypotheses formally:\n",
    "Null hypothesis (H0): The population mean weight is 5 pounds.\n",
    "Alternative hypothesis (H1): The population mean weight is less than 5 pounds.\n",
    "The formula for the t-test is:\n",
    "    t = (x̄-μ)/(s/sqrt(n))\n",
    "     Where:\n",
    "        x̄ is the sample mean,\n",
    "        μ is the hypothesized population mean,\n",
    "        s is the standard deviation of the sample,\n",
    "        n is the sample size.\n",
    "Let's plug in the values and calculate the t-statistic:\n",
    "    t = (4.8-5)/(0.5/sqrt(25))\n",
    "    t=−2\n",
    "\n",
    "Now, we need to compare this t-statistic with the critical t-value at a significance level of 0.01 with 24 degrees of freedom (since n−1=25−1=24).\n",
    "\n",
    "You can use a t-distribution table or statistical software to find the critical t-value. For a one-tailed test with a significance level of 0.01 and 24 degrees of freedom, the critical t-value is approximately -2.492.\n",
    "\n",
    "Since the calculated t-statistic (−2) is greater than the critical t-value (−2.492), we reject the null hypothesis. There is sufficient evidence to conclude that the true mean weight of the products is less than 5 pounds.\n",
    "\n",
    "In summary:\n",
    "\n",
    "Null Hypothesis (H0): The population mean weight is 5 pounds.\n",
    "Alternative Hypothesis (H1): The population mean weight is less than 5 pounds.\n",
    "Since the calculated t-statistic is in the critical region, we reject the null hypothesis."
   ]
  },
  {
   "cell_type": "code",
   "execution_count": null,
   "id": "1bc855c6-eb96-438b-9d04-a46b4d24f6a8",
   "metadata": {},
   "outputs": [],
   "source": [
    "Q16. Two groups of students are given different study materials to prepare for a test. The first group (n1 =\n",
    "30) has a mean score of 80 with a standard deviation of 10, and the second group (n2 = 40) has a mean\n",
    "score of 75 with a standard deviation of 8. Test the hypothesis that the population means for the two\n",
    "groups are equal with a significance level of 0.01.\n",
    "\n",
    "To test the hypothesis that the population means for the two groups are equal, you can use the independent samples t-test. The null hypothesis (H0) is that the population means are equal, and the alternative hypothesis (H1) is that they are not equal. The significance level is given as 0.01.\n",
    "\n",
    "The formula for the t-test for independent samples is given by:\n",
    "     t = (x̄(1)-x̄(2))/(sqrt((s1^2/n1)+(s2^2/n2))\n",
    "      where:\n",
    "        x̄(1) and x̄(2) are the sample means of the two groups.\n",
    "        s1 and s2 are the sample standard deviations of the two groups.\n",
    "        n1 and n2 are the sample sizes of the two groups.\n",
    "Now, let's substitute the given values into the formula:\n",
    "        t = (80-75)/(sqrt((10^2/30)+(8^2/40))\n",
    "        t≈1.94\n",
    "\n",
    "Now, you compare the calculated t-value (1.94) with the critical t-value from the t-distribution table at a significance level of 0.01 and degrees of freedom df=n 1+n 2−2. If the calculated t-value is greater than the critical t-value, you reject the null hypothesis.\n",
    "\n",
    "Note: Degrees of freedom (df) in this case is 30+40−2=68\n",
    "30+40−2=68. You can find the critical t-value for df=68 at a significance level of 0.01 from a t-distribution table.\n",
    "\n",
    "If the calculated t-value is greater than the critical t-value, you reject the null hypothesis and conclude that there is a significant difference between the population means of the two groups. If it is not greater, you fail to reject the null hypothesis."
   ]
  },
  {
   "cell_type": "code",
   "execution_count": null,
   "id": "43a37235-b0e2-400b-89b8-c15a42f51304",
   "metadata": {},
   "outputs": [],
   "source": [
    "Q17. A marketing company wants to estimate the average number of ads watched by viewers during a TV\n",
    "program. They take a random sample of 50 viewers and find that the sample mean is 4 with a standard\n",
    "deviation of 1.5. Estimate the population mean with a 99% confidence interval.\n",
    "\n",
    "To estimate the population mean with a confidence interval, you can use the formula for the confidence interval for the population mean (μ):\n",
    "     Confidence Interval= x̄ ± (z⋅s/sqrt(n)) \n",
    "     Where:\n",
    "       x̄ is the sample mean,\n",
    "       s is the sample standard deviation,\n",
    "       n is the sample size,\n",
    "       Z is the Z-score corresponding to the desired confidence level.\n",
    "For a 99% confidence interval, the critical Z-value is approximately 2.576. You can find this value from a standard normal distribution table or use statistical software.\n",
    "\n",
    "Now, substitute the given values into the formula:\n",
    "\n",
    "Confidence Interval = 4 ± 2.576(1.5/sqrt(50))\n",
    "Confidence Interval = 4 ± 2.576×0.2121\n",
    "\n",
    "Now, calculate the range of the confidence interval:\n",
    "\n",
    "Lower Limit=4−(2.576×0.2121) = 4−0.5469 ≈ 3.4531\n",
    "Upper Limit=4+(2.576×0.2121) = 4+0.5469 ≈ 4.5469\n",
    "\n",
    "So, the 99% confidence interval for the average number of ads watched by viewers during a TV program is approximately (3.4531,4.5469)."
   ]
  },
  {
   "cell_type": "code",
   "execution_count": null,
   "id": "8b3ed966-1e32-436a-b2ca-1f725050411a",
   "metadata": {},
   "outputs": [],
   "source": []
  },
  {
   "cell_type": "code",
   "execution_count": null,
   "id": "7d85cf5a-697c-423f-a0d6-1e7a4004ff37",
   "metadata": {},
   "outputs": [],
   "source": []
  },
  {
   "cell_type": "code",
   "execution_count": null,
   "id": "0bc7142e-dc8f-476b-a7f9-edb85099bef5",
   "metadata": {},
   "outputs": [],
   "source": []
  },
  {
   "cell_type": "code",
   "execution_count": null,
   "id": "05c9c654-fc02-4fb5-b2e3-8a6cb629a9db",
   "metadata": {},
   "outputs": [],
   "source": []
  }
 ],
 "metadata": {
  "kernelspec": {
   "display_name": "Python 3 (ipykernel)",
   "language": "python",
   "name": "python3"
  },
  "language_info": {
   "codemirror_mode": {
    "name": "ipython",
    "version": 3
   },
   "file_extension": ".py",
   "mimetype": "text/x-python",
   "name": "python",
   "nbconvert_exporter": "python",
   "pygments_lexer": "ipython3",
   "version": "3.10.8"
  }
 },
 "nbformat": 4,
 "nbformat_minor": 5
}
